{
 "cells": [
  {
   "cell_type": "markdown",
   "id": "ee5dddfb-1137-4550-8567-ec72f42c5fb0",
   "metadata": {},
   "source": [
    "## Segmenting and Clustering Hospitals in Toronto, Ontario"
   ]
  },
  {
   "cell_type": "markdown",
   "id": "cd56b755-4209-42a9-ab03-ca4f83d1bb46",
   "metadata": {},
   "source": [
    "Introduction"
   ]
  },
  {
   "cell_type": "markdown",
   "id": "c24f450b-e035-41d4-8041-7687ff28e3bb",
   "metadata": {},
   "source": [
    "Some people love being in a hospital, some hate it, others are indifferent. However, what is common to all is that their in-patient experience can be improved with the welcome escape to their favorite retreat, be-it a cafe, theatre or certain type of cuisine.\n",
    "\n",
    "Given the choice of which hospital to be admitted to, this will likely bear some weight on the patient’s selection of hospital and relavant to stakeholders such as:\n",
    "- For medical professionals that are making these referrals, getting the best outcome for their patient includes making them feel comfortable in what will be a unfamiliar place.\n",
    "- For healthcare referral apps and also local search-and-discovery apps there is an unmet demand for pre-emptive hospital selection based on personalised nearby venues of interest.\n",
    "\n",
    "Pre-empting the choice of hospital can be achieve by knowing the patient’s preference for their top 5 nearby venues and matching that to a clustered group of hospitals and nearby venues\n"
   ]
  },
  {
   "cell_type": "markdown",
   "id": "add082e2-636e-4f81-a9f5-574ef68ebc54",
   "metadata": {},
   "source": [
    "Data and Analysis"
   ]
  },
  {
   "cell_type": "markdown",
   "id": "9b9be404-4e52-4648-a02f-b133f5e9b098",
   "metadata": {},
   "source": [
    "To conduct the analysis we use the Foursquare API to explore hospitals in Toronto, ON. \n",
    "\n",
    "1. We use the search function to find all hospitals in Toronto \n",
    "2. Then use the explore function to get the most common venue categories near to each hospital\n",
    "3. We use this feature to group the hospitals into clusters and use the k-means clustering algorithm to complete this task. \n",
    "4. The Folium library is used to visualize the hospitals in Toronto and their emerging clusters.\n",
    "5. Finally, we analyze the cluster to find the dominant features characterizing it\n",
    "\n",
    "The app developer would be able to match the user's preference to thes clustered groups and prioritize the choice of hospital."
   ]
  }
 ],
 "metadata": {
  "kernelspec": {
   "display_name": "Python",
   "language": "python",
   "name": "conda-env-python-py"
  },
  "language_info": {
   "codemirror_mode": {
    "name": "ipython",
    "version": 3
   },
   "file_extension": ".py",
   "mimetype": "text/x-python",
   "name": "python",
   "nbconvert_exporter": "python",
   "pygments_lexer": "ipython3",
   "version": "3.6.13"
  }
 },
 "nbformat": 4,
 "nbformat_minor": 5
}
